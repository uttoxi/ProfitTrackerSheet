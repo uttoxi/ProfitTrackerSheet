{
 "cells": [
  {
   "cell_type": "code",
   "execution_count": 1,
   "metadata": {},
   "outputs": [],
   "source": [
    "import pandas as pd\n",
    "import numpy as np"
   ]
  },
  {
   "attachments": {},
   "cell_type": "markdown",
   "metadata": {},
   "source": [
    "# Analysis from the Profit Tracker Sheet"
   ]
  },
  {
   "attachments": {},
   "cell_type": "markdown",
   "metadata": {},
   "source": [
    "## First Sheet : Subscription Sheet"
   ]
  },
  {
   "attachments": {},
   "cell_type": "markdown",
   "metadata": {},
   "source": [
    "So the most important segment which on analysis we found about the profit tacker sheet is the Subscription Plan Data\n",
    "\n",
    "The Subscription Plan has data about the different plans available for the students and teacher. \n",
    "\n",
    "The Information about Distribution of students in the plans is given. \n",
    "\n",
    "Also the information about the price of each plan (including and excluding gst) is given and based on that the total amount calculation information is given\n",
    "\n",
    "The formula for calculation of total amount = No of Students*price of plan"
   ]
  },
  {
   "cell_type": "code",
   "execution_count": 7,
   "metadata": {},
   "outputs": [
    {
     "data": {
      "text/html": [
       "<div>\n",
       "<style scoped>\n",
       "    .dataframe tbody tr th:only-of-type {\n",
       "        vertical-align: middle;\n",
       "    }\n",
       "\n",
       "    .dataframe tbody tr th {\n",
       "        vertical-align: top;\n",
       "    }\n",
       "\n",
       "    .dataframe thead th {\n",
       "        text-align: right;\n",
       "    }\n",
       "</style>\n",
       "<table border=\"1\" class=\"dataframe\">\n",
       "  <thead>\n",
       "    <tr style=\"text-align: right;\">\n",
       "      <th></th>\n",
       "      <th>Subscription Plan</th>\n",
       "      <th>Percentage of total students enrolled</th>\n",
       "      <th>Number of students enrolled</th>\n",
       "      <th>Price of each plan\\n(excluding GST)</th>\n",
       "      <th>Price of each plan\\n(including GST)</th>\n",
       "      <th>Total amount\\n(excluding GST)</th>\n",
       "      <th>Total amount\\n(including GST)</th>\n",
       "    </tr>\n",
       "  </thead>\n",
       "  <tbody>\n",
       "    <tr>\n",
       "      <th>0</th>\n",
       "      <td>% Student leads paying only for course fee</td>\n",
       "      <td>0.1</td>\n",
       "      <td>138</td>\n",
       "      <td>3000</td>\n",
       "      <td>3540</td>\n",
       "      <td>414000</td>\n",
       "      <td>488520</td>\n",
       "    </tr>\n",
       "    <tr>\n",
       "      <th>1</th>\n",
       "      <td>% Student leads paying only for monthly subscr...</td>\n",
       "      <td>0.1</td>\n",
       "      <td>138</td>\n",
       "      <td>1000</td>\n",
       "      <td>1180</td>\n",
       "      <td>138000</td>\n",
       "      <td>162840</td>\n",
       "    </tr>\n",
       "    <tr>\n",
       "      <th>2</th>\n",
       "      <td>% Student leads paying only for monthly subscr...</td>\n",
       "      <td>0.1</td>\n",
       "      <td>138</td>\n",
       "      <td>1500</td>\n",
       "      <td>1770</td>\n",
       "      <td>207000</td>\n",
       "      <td>244260</td>\n",
       "    </tr>\n",
       "    <tr>\n",
       "      <th>3</th>\n",
       "      <td>% Students leads paying for both course fee an...</td>\n",
       "      <td>0.1</td>\n",
       "      <td>138</td>\n",
       "      <td>4000</td>\n",
       "      <td>4720</td>\n",
       "      <td>552000</td>\n",
       "      <td>651360</td>\n",
       "    </tr>\n",
       "    <tr>\n",
       "      <th>4</th>\n",
       "      <td>% Student leads paying for both the monthly su...</td>\n",
       "      <td>0.1</td>\n",
       "      <td>138</td>\n",
       "      <td>2500</td>\n",
       "      <td>2950</td>\n",
       "      <td>345000</td>\n",
       "      <td>407100</td>\n",
       "    </tr>\n",
       "    <tr>\n",
       "      <th>5</th>\n",
       "      <td>% Student leads paying for both course fee and...</td>\n",
       "      <td>0.1</td>\n",
       "      <td>138</td>\n",
       "      <td>4500</td>\n",
       "      <td>5310</td>\n",
       "      <td>621000</td>\n",
       "      <td>732780</td>\n",
       "    </tr>\n",
       "    <tr>\n",
       "      <th>6</th>\n",
       "      <td>% Student leads paying for all the three packages</td>\n",
       "      <td>0.2</td>\n",
       "      <td>276</td>\n",
       "      <td>5500</td>\n",
       "      <td>6490</td>\n",
       "      <td>1518000</td>\n",
       "      <td>1791240</td>\n",
       "    </tr>\n",
       "    <tr>\n",
       "      <th>7</th>\n",
       "      <td>% Students leads not paying for anything</td>\n",
       "      <td>0.2</td>\n",
       "      <td>276</td>\n",
       "      <td>0</td>\n",
       "      <td>0</td>\n",
       "      <td>0</td>\n",
       "      <td>0</td>\n",
       "    </tr>\n",
       "    <tr>\n",
       "      <th>8</th>\n",
       "      <td>% Teachers paying us for our services</td>\n",
       "      <td>0.2</td>\n",
       "      <td>188</td>\n",
       "      <td>10000</td>\n",
       "      <td>11800</td>\n",
       "      <td>1880000</td>\n",
       "      <td>2218400</td>\n",
       "    </tr>\n",
       "  </tbody>\n",
       "</table>\n",
       "</div>"
      ],
      "text/plain": [
       "                                   Subscription Plan  \\\n",
       "0         % Student leads paying only for course fee   \n",
       "1  % Student leads paying only for monthly subscr...   \n",
       "2  % Student leads paying only for monthly subscr...   \n",
       "3  % Students leads paying for both course fee an...   \n",
       "4  % Student leads paying for both the monthly su...   \n",
       "5  % Student leads paying for both course fee and...   \n",
       "6  % Student leads paying for all the three packages   \n",
       "7           % Students leads not paying for anything   \n",
       "8              % Teachers paying us for our services   \n",
       "\n",
       "   Percentage of total students enrolled  Number of students enrolled  \\\n",
       "0                                    0.1                          138   \n",
       "1                                    0.1                          138   \n",
       "2                                    0.1                          138   \n",
       "3                                    0.1                          138   \n",
       "4                                    0.1                          138   \n",
       "5                                    0.1                          138   \n",
       "6                                    0.2                          276   \n",
       "7                                    0.2                          276   \n",
       "8                                    0.2                          188   \n",
       "\n",
       "   Price of each plan\\n(excluding GST)  Price of each plan\\n(including GST)  \\\n",
       "0                                 3000                                 3540   \n",
       "1                                 1000                                 1180   \n",
       "2                                 1500                                 1770   \n",
       "3                                 4000                                 4720   \n",
       "4                                 2500                                 2950   \n",
       "5                                 4500                                 5310   \n",
       "6                                 5500                                 6490   \n",
       "7                                    0                                    0   \n",
       "8                                10000                                11800   \n",
       "\n",
       "   Total amount\\n(excluding GST)  Total amount\\n(including GST)  \n",
       "0                         414000                         488520  \n",
       "1                         138000                         162840  \n",
       "2                         207000                         244260  \n",
       "3                         552000                         651360  \n",
       "4                         345000                         407100  \n",
       "5                         621000                         732780  \n",
       "6                        1518000                        1791240  \n",
       "7                              0                              0  \n",
       "8                        1880000                        2218400  "
      ]
     },
     "execution_count": 7,
     "metadata": {},
     "output_type": "execute_result"
    }
   ],
   "source": [
    "df1 = pd.read_excel('SubscriptionPlan.xlsx')\n",
    "df1"
   ]
  },
  {
   "attachments": {},
   "cell_type": "markdown",
   "metadata": {},
   "source": [
    "So we can create a Calculator part using this information as we have done in Salary Dept Wise Sheet\n",
    "\n",
    "Also we can use a pie or sunburst kind of charts for showing the distribution of students in different courses"
   ]
  },
  {
   "attachments": {},
   "cell_type": "markdown",
   "metadata": {},
   "source": [
    "## 2nd Sheet : Teacher Student Distribution Summary Sheet"
   ]
  },
  {
   "attachments": {},
   "cell_type": "markdown",
   "metadata": {},
   "source": [
    "This sheet gives the information about the total number of students and teachers we have right now in Ozigen \n",
    "\n",
    "So this sheet can be used as a Summary Sheet to display the no of students, no of teachers, and average student per teacher"
   ]
  },
  {
   "cell_type": "code",
   "execution_count": 43,
   "metadata": {},
   "outputs": [
    {
     "data": {
      "text/html": [
       "<div>\n",
       "<style scoped>\n",
       "    .dataframe tbody tr th:only-of-type {\n",
       "        vertical-align: middle;\n",
       "    }\n",
       "\n",
       "    .dataframe tbody tr th {\n",
       "        vertical-align: top;\n",
       "    }\n",
       "\n",
       "    .dataframe thead th {\n",
       "        text-align: right;\n",
       "    }\n",
       "</style>\n",
       "<table border=\"1\" class=\"dataframe\">\n",
       "  <thead>\n",
       "    <tr style=\"text-align: right;\">\n",
       "      <th></th>\n",
       "      <th>No.s of students</th>\n",
       "      <th>No. of teachers</th>\n",
       "      <th>Per teacher pay/month</th>\n",
       "      <th>Amount paid to teachers(INR)</th>\n",
       "      <th>Net Profit \\n(INR/Month)</th>\n",
       "      <th>Profit Growth</th>\n",
       "      <th>Average students per teacher</th>\n",
       "    </tr>\n",
       "  </thead>\n",
       "  <tbody>\n",
       "    <tr>\n",
       "      <th>0</th>\n",
       "      <td>1380</td>\n",
       "      <td>940</td>\n",
       "      <td>2543.457447</td>\n",
       "      <td>2390850</td>\n",
       "      <td>3018500</td>\n",
       "      <td>1.262522</td>\n",
       "      <td>1.468085</td>\n",
       "    </tr>\n",
       "  </tbody>\n",
       "</table>\n",
       "</div>"
      ],
      "text/plain": [
       "   No.s of students  No. of teachers  Per teacher pay/month  \\\n",
       "0              1380              940            2543.457447   \n",
       "\n",
       "   Amount paid to teachers(INR)  Net Profit \\n(INR/Month)  Profit Growth  \\\n",
       "0                       2390850                   3018500       1.262522   \n",
       "\n",
       "   Average students per teacher  \n",
       "0                      1.468085  "
      ]
     },
     "execution_count": 43,
     "metadata": {},
     "output_type": "execute_result"
    }
   ],
   "source": [
    "df2 = pd.read_excel('TeacherStudentDistribution.xlsx')\n",
    "df2"
   ]
  },
  {
   "cell_type": "code",
   "execution_count": 20,
   "metadata": {},
   "outputs": [
    {
     "data": {
      "text/html": [
       "<div>\n",
       "<style scoped>\n",
       "    .dataframe tbody tr th:only-of-type {\n",
       "        vertical-align: middle;\n",
       "    }\n",
       "\n",
       "    .dataframe tbody tr th {\n",
       "        vertical-align: top;\n",
       "    }\n",
       "\n",
       "    .dataframe thead th {\n",
       "        text-align: right;\n",
       "    }\n",
       "</style>\n",
       "<table border=\"1\" class=\"dataframe\">\n",
       "  <thead>\n",
       "    <tr style=\"text-align: right;\">\n",
       "      <th></th>\n",
       "      <th>Gross Sales (Including GST)</th>\n",
       "      <th>Net Sales (Excluding GST)</th>\n",
       "      <th>Liability (GST)</th>\n",
       "      <th>Net Sales (In Cr)</th>\n",
       "      <th>Total TDS amount deducted  (INR)</th>\n",
       "      <th>Amount paid to teachers(INR)</th>\n",
       "      <th>Total Amount paid to \\nteacher/ month (In Cr)</th>\n",
       "      <th>Net Profit</th>\n",
       "    </tr>\n",
       "  </thead>\n",
       "  <tbody>\n",
       "    <tr>\n",
       "      <th>0</th>\n",
       "      <td>6696500</td>\n",
       "      <td>5675000</td>\n",
       "      <td>1021500</td>\n",
       "      <td>0.5675</td>\n",
       "      <td>265650</td>\n",
       "      <td>2390850</td>\n",
       "      <td>0.239085</td>\n",
       "      <td>3018500</td>\n",
       "    </tr>\n",
       "  </tbody>\n",
       "</table>\n",
       "</div>"
      ],
      "text/plain": [
       "   Gross Sales (Including GST)  Net Sales (Excluding GST)  Liability (GST)  \\\n",
       "0                      6696500                    5675000          1021500   \n",
       "\n",
       "   Net Sales (In Cr)  Total TDS amount deducted  (INR)  \\\n",
       "0             0.5675                            265650   \n",
       "\n",
       "   Amount paid to teachers(INR)  \\\n",
       "0                       2390850   \n",
       "\n",
       "   Total Amount paid to \\nteacher/ month (In Cr)  Net Profit  \n",
       "0                                       0.239085     3018500  "
      ]
     },
     "execution_count": 20,
     "metadata": {},
     "output_type": "execute_result"
    }
   ],
   "source": [
    "df3 = pd.read_excel('ProfitCalculation.xlsx')\n",
    "df3.head()"
   ]
  },
  {
   "cell_type": "code",
   "execution_count": 26,
   "metadata": {},
   "outputs": [
    {
     "data": {
      "text/html": [
       "<div>\n",
       "<style scoped>\n",
       "    .dataframe tbody tr th:only-of-type {\n",
       "        vertical-align: middle;\n",
       "    }\n",
       "\n",
       "    .dataframe tbody tr th {\n",
       "        vertical-align: top;\n",
       "    }\n",
       "\n",
       "    .dataframe thead th {\n",
       "        text-align: right;\n",
       "    }\n",
       "</style>\n",
       "<table border=\"1\" class=\"dataframe\">\n",
       "  <thead>\n",
       "    <tr style=\"text-align: right;\">\n",
       "      <th></th>\n",
       "      <th>Gross Sales (Including GST)</th>\n",
       "      <th>Net Sales (Excluding GST)</th>\n",
       "      <th>Liability (GST)</th>\n",
       "      <th>Net Sales (In Cr)</th>\n",
       "      <th>Total TDS amount deducted  (INR)</th>\n",
       "      <th>Amount paid to teachers(INR)</th>\n",
       "      <th>Total Amount paid to \\nteacher/ month (In Cr)</th>\n",
       "      <th>Net Profit</th>\n",
       "      <th>Profit Growth</th>\n",
       "      <th>Per teacher pay/month</th>\n",
       "      <th>No. of teachers</th>\n",
       "    </tr>\n",
       "  </thead>\n",
       "  <tbody>\n",
       "    <tr>\n",
       "      <th>0</th>\n",
       "      <td>6696500</td>\n",
       "      <td>5675000</td>\n",
       "      <td>1021500</td>\n",
       "      <td>0.5675</td>\n",
       "      <td>265650</td>\n",
       "      <td>2390850</td>\n",
       "      <td>0.239085</td>\n",
       "      <td>3018500</td>\n",
       "      <td>1.262522</td>\n",
       "      <td>2543.457447</td>\n",
       "      <td>940</td>\n",
       "    </tr>\n",
       "  </tbody>\n",
       "</table>\n",
       "</div>"
      ],
      "text/plain": [
       "   Gross Sales (Including GST)  Net Sales (Excluding GST)  Liability (GST)  \\\n",
       "0                      6696500                    5675000          1021500   \n",
       "\n",
       "   Net Sales (In Cr)  Total TDS amount deducted  (INR)  \\\n",
       "0             0.5675                            265650   \n",
       "\n",
       "   Amount paid to teachers(INR)  \\\n",
       "0                       2390850   \n",
       "\n",
       "   Total Amount paid to \\nteacher/ month (In Cr)  Net Profit  Profit Growth  \\\n",
       "0                                       0.239085     3018500       1.262522   \n",
       "\n",
       "   Per teacher pay/month  No. of teachers  \n",
       "0            2543.457447              940  "
      ]
     },
     "execution_count": 26,
     "metadata": {},
     "output_type": "execute_result"
    }
   ],
   "source": [
    "df3['Profit Growth'] = df2['Profit Growth']\n",
    "df3['Per teacher pay/month'] = df2['Per teacher pay/month']\n",
    "df3['No. of teachers'] = df2['No. of teachers']\n",
    "df3.head()"
   ]
  },
  {
   "cell_type": "code",
   "execution_count": 28,
   "metadata": {},
   "outputs": [
    {
     "data": {
      "text/html": [
       "<div>\n",
       "<style scoped>\n",
       "    .dataframe tbody tr th:only-of-type {\n",
       "        vertical-align: middle;\n",
       "    }\n",
       "\n",
       "    .dataframe tbody tr th {\n",
       "        vertical-align: top;\n",
       "    }\n",
       "\n",
       "    .dataframe thead th {\n",
       "        text-align: right;\n",
       "    }\n",
       "</style>\n",
       "<table border=\"1\" class=\"dataframe\">\n",
       "  <thead>\n",
       "    <tr style=\"text-align: right;\">\n",
       "      <th></th>\n",
       "      <th>No. of teachers</th>\n",
       "      <th>Per teacher pay/month</th>\n",
       "      <th>Amount paid to teachers(INR)</th>\n",
       "      <th>Total Amount paid to \\nteacher/ month (In Cr)</th>\n",
       "      <th>Gross Sales (Including GST)</th>\n",
       "      <th>Net Sales (Excluding GST)</th>\n",
       "      <th>Liability (GST)</th>\n",
       "      <th>Net Sales (In Cr)</th>\n",
       "      <th>Total TDS amount deducted (INR)</th>\n",
       "      <th>Net Profit</th>\n",
       "      <th>Profit Growth</th>\n",
       "    </tr>\n",
       "  </thead>\n",
       "  <tbody>\n",
       "    <tr>\n",
       "      <th>0</th>\n",
       "      <td>940</td>\n",
       "      <td>2543.457447</td>\n",
       "      <td>2390850</td>\n",
       "      <td>0.239085</td>\n",
       "      <td>6696500</td>\n",
       "      <td>5675000</td>\n",
       "      <td>1021500</td>\n",
       "      <td>0.5675</td>\n",
       "      <td>NaN</td>\n",
       "      <td>3018500</td>\n",
       "      <td>1.262522</td>\n",
       "    </tr>\n",
       "  </tbody>\n",
       "</table>\n",
       "</div>"
      ],
      "text/plain": [
       "   No. of teachers  Per teacher pay/month  Amount paid to teachers(INR)  \\\n",
       "0              940            2543.457447                       2390850   \n",
       "\n",
       "   Total Amount paid to \\nteacher/ month (In Cr)  Gross Sales (Including GST)  \\\n",
       "0                                       0.239085                      6696500   \n",
       "\n",
       "   Net Sales (Excluding GST)  Liability (GST)  Net Sales (In Cr)  \\\n",
       "0                    5675000          1021500             0.5675   \n",
       "\n",
       "   Total TDS amount deducted (INR)  Net Profit  Profit Growth  \n",
       "0                              NaN     3018500       1.262522  "
      ]
     },
     "execution_count": 28,
     "metadata": {},
     "output_type": "execute_result"
    }
   ],
   "source": [
    "columns = ['No. of teachers','Per teacher pay/month','Amount paid to teachers(INR)', 'Total Amount paid to \\nteacher/ month (In Cr)','Gross Sales (Including GST)',\t'Net Sales (Excluding GST)','Liability (GST)','Net Sales (In Cr)','Total TDS amount deducted (INR)','Net Profit','Profit Growth']\n",
    "df3 = df3.reindex(columns,axis=1)\n",
    "df3.head()"
   ]
  },
  {
   "cell_type": "code",
   "execution_count": 29,
   "metadata": {},
   "outputs": [],
   "source": [
    "df3.to_excel('ProfitCalculation.xlsx')"
   ]
  },
  {
   "cell_type": "code",
   "execution_count": 44,
   "metadata": {},
   "outputs": [
    {
     "data": {
      "text/html": [
       "<div>\n",
       "<style scoped>\n",
       "    .dataframe tbody tr th:only-of-type {\n",
       "        vertical-align: middle;\n",
       "    }\n",
       "\n",
       "    .dataframe tbody tr th {\n",
       "        vertical-align: top;\n",
       "    }\n",
       "\n",
       "    .dataframe thead th {\n",
       "        text-align: right;\n",
       "    }\n",
       "</style>\n",
       "<table border=\"1\" class=\"dataframe\">\n",
       "  <thead>\n",
       "    <tr style=\"text-align: right;\">\n",
       "      <th></th>\n",
       "      <th>No.s of students</th>\n",
       "      <th>No. of teachers</th>\n",
       "      <th>Average students per teacher</th>\n",
       "    </tr>\n",
       "  </thead>\n",
       "  <tbody>\n",
       "    <tr>\n",
       "      <th>0</th>\n",
       "      <td>1380</td>\n",
       "      <td>940</td>\n",
       "      <td>1.468085</td>\n",
       "    </tr>\n",
       "  </tbody>\n",
       "</table>\n",
       "</div>"
      ],
      "text/plain": [
       "   No.s of students  No. of teachers  Average students per teacher\n",
       "0              1380              940                      1.468085"
      ]
     },
     "execution_count": 44,
     "metadata": {},
     "output_type": "execute_result"
    }
   ],
   "source": [
    "df2 = df2[['No.s of students','No. of teachers','Average students per teacher']]\n",
    "df2.head()"
   ]
  },
  {
   "cell_type": "code",
   "execution_count": 45,
   "metadata": {},
   "outputs": [],
   "source": [
    "df2.to_excel('TeacherStudentDistribution.xlsx')"
   ]
  },
  {
   "attachments": {},
   "cell_type": "markdown",
   "metadata": {},
   "source": [
    "Here we have done some preprocessing so that we can separate two sheets one for summary and another for profit Calculation which will be explained below"
   ]
  },
  {
   "attachments": {},
   "cell_type": "markdown",
   "metadata": {},
   "source": [
    "## 3rd Sheet : Profit Calculation Sheet"
   ]
  },
  {
   "attachments": {},
   "cell_type": "markdown",
   "metadata": {},
   "source": [
    "This profit targets the net and gross sales net profit \n",
    "\n",
    "So Ozigen has been paying only to the teachers\n",
    "So we have column showing the no of teachers, amount paid to teachers and based on these columns we calculate the total amount paid to the teachers\n",
    "\n",
    "Total Amount Paid to the teachers = no of teachers*amount paid to teacher\n",
    "\n",
    "\n",
    "Now Ozigen is getting money from the subscription plans so the subscription plans total sales is the net sales and gross sales depending upon excluding and including GST\n",
    "\n",
    "\n",
    "Liability = Net Sales*Tax Deduction\n",
    "\n",
    "So now comes the main info of Profit Tracker Sheet \n",
    "\n",
    "It is Net Profit and Profit Growth\n",
    "\n",
    "So the Net Profit is calculated as  :\n",
    "Net Profit = Net Sales - Total Amount Paid to the Teachers - Total TDS Amount Deducted\n",
    "\n",
    "And the Profit Growth Calculation goes as  Net Profit/Total Amount Paid to the Teachers\n"
   ]
  },
  {
   "cell_type": "code",
   "execution_count": 33,
   "metadata": {},
   "outputs": [],
   "source": [
    "df3 = pd.read_excel('ProfitCalculation.xlsx')"
   ]
  },
  {
   "cell_type": "code",
   "execution_count": 34,
   "metadata": {},
   "outputs": [
    {
     "data": {
      "text/html": [
       "<div>\n",
       "<style scoped>\n",
       "    .dataframe tbody tr th:only-of-type {\n",
       "        vertical-align: middle;\n",
       "    }\n",
       "\n",
       "    .dataframe tbody tr th {\n",
       "        vertical-align: top;\n",
       "    }\n",
       "\n",
       "    .dataframe thead th {\n",
       "        text-align: right;\n",
       "    }\n",
       "</style>\n",
       "<table border=\"1\" class=\"dataframe\">\n",
       "  <thead>\n",
       "    <tr style=\"text-align: right;\">\n",
       "      <th></th>\n",
       "      <th>No. of teachers</th>\n",
       "      <th>Per teacher pay/month</th>\n",
       "      <th>Amount paid to teachers(INR)</th>\n",
       "      <th>Total Amount paid to \\nteacher/ month (In Cr)</th>\n",
       "      <th>Gross Sales (Including GST)</th>\n",
       "      <th>Net Sales (Excluding GST)</th>\n",
       "      <th>TDS deduction %</th>\n",
       "      <th>Tax Deduction  %</th>\n",
       "      <th>Liability (GST)</th>\n",
       "      <th>Net Sales (In Cr)</th>\n",
       "      <th>Total TDS amount deducted (INR)</th>\n",
       "      <th>Net Profit</th>\n",
       "      <th>Profit Growth</th>\n",
       "    </tr>\n",
       "  </thead>\n",
       "  <tbody>\n",
       "    <tr>\n",
       "      <th>0</th>\n",
       "      <td>940</td>\n",
       "      <td>2543.457447</td>\n",
       "      <td>2390850</td>\n",
       "      <td>0.239085</td>\n",
       "      <td>6696500</td>\n",
       "      <td>5675000</td>\n",
       "      <td>0.1</td>\n",
       "      <td>0.18</td>\n",
       "      <td>1021500</td>\n",
       "      <td>0.5675</td>\n",
       "      <td>265650</td>\n",
       "      <td>3018500</td>\n",
       "      <td>1.262522</td>\n",
       "    </tr>\n",
       "  </tbody>\n",
       "</table>\n",
       "</div>"
      ],
      "text/plain": [
       "   No. of teachers  Per teacher pay/month  Amount paid to teachers(INR)  \\\n",
       "0              940            2543.457447                       2390850   \n",
       "\n",
       "   Total Amount paid to \\nteacher/ month (In Cr)  Gross Sales (Including GST)  \\\n",
       "0                                       0.239085                      6696500   \n",
       "\n",
       "   Net Sales (Excluding GST)  TDS deduction %  Tax Deduction  %  \\\n",
       "0                    5675000              0.1              0.18   \n",
       "\n",
       "   Liability (GST)  Net Sales (In Cr)  Total TDS amount deducted (INR)  \\\n",
       "0          1021500             0.5675                           265650   \n",
       "\n",
       "   Net Profit  Profit Growth  \n",
       "0     3018500       1.262522  "
      ]
     },
     "execution_count": 34,
     "metadata": {},
     "output_type": "execute_result"
    }
   ],
   "source": [
    "df3.head()"
   ]
  },
  {
   "attachments": {},
   "cell_type": "markdown",
   "metadata": {},
   "source": [
    "## 4th Sheet : Sales In Different Currency"
   ]
  },
  {
   "cell_type": "code",
   "execution_count": 37,
   "metadata": {},
   "outputs": [
    {
     "data": {
      "text/html": [
       "<div>\n",
       "<style scoped>\n",
       "    .dataframe tbody tr th:only-of-type {\n",
       "        vertical-align: middle;\n",
       "    }\n",
       "\n",
       "    .dataframe tbody tr th {\n",
       "        vertical-align: top;\n",
       "    }\n",
       "\n",
       "    .dataframe thead th {\n",
       "        text-align: right;\n",
       "    }\n",
       "</style>\n",
       "<table border=\"1\" class=\"dataframe\">\n",
       "  <thead>\n",
       "    <tr style=\"text-align: right;\">\n",
       "      <th></th>\n",
       "      <th>Dollar price in INR</th>\n",
       "      <th>73.48</th>\n",
       "    </tr>\n",
       "  </thead>\n",
       "  <tbody>\n",
       "    <tr>\n",
       "      <th>0</th>\n",
       "      <td>Total Net Profit collected/ month\\n (USD)</td>\n",
       "      <td>$41,079.21</td>\n",
       "    </tr>\n",
       "    <tr>\n",
       "      <th>1</th>\n",
       "      <td>Total Net Profit collected/ month \\n (USD - Mi...</td>\n",
       "      <td>$0.04</td>\n",
       "    </tr>\n",
       "    <tr>\n",
       "      <th>2</th>\n",
       "      <td>Total Net Profit collected/ year  \\n(USD - Mil...</td>\n",
       "      <td>$0.49</td>\n",
       "    </tr>\n",
       "    <tr>\n",
       "      <th>3</th>\n",
       "      <td>AED price in INR</td>\n",
       "      <td>20.01</td>\n",
       "    </tr>\n",
       "    <tr>\n",
       "      <th>4</th>\n",
       "      <td>Total Net Profit collected/ month \\n(AED)</td>\n",
       "      <td>AED150,849.58</td>\n",
       "    </tr>\n",
       "  </tbody>\n",
       "</table>\n",
       "</div>"
      ],
      "text/plain": [
       "                                 Dollar price in INR          73.48\n",
       "0          Total Net Profit collected/ month\\n (USD)     $41,079.21\n",
       "1  Total Net Profit collected/ month \\n (USD - Mi...          $0.04\n",
       "2  Total Net Profit collected/ year  \\n(USD - Mil...          $0.49\n",
       "3                                   AED price in INR          20.01\n",
       "4          Total Net Profit collected/ month \\n(AED)  AED150,849.58"
      ]
     },
     "execution_count": 37,
     "metadata": {},
     "output_type": "execute_result"
    }
   ],
   "source": [
    "df4 = pd.read_excel('Sales_in_Different_Currency.xlsx')\n",
    "df4.head()"
   ]
  },
  {
   "cell_type": "code",
   "execution_count": 38,
   "metadata": {},
   "outputs": [
    {
     "data": {
      "text/html": [
       "<div>\n",
       "<style scoped>\n",
       "    .dataframe tbody tr th:only-of-type {\n",
       "        vertical-align: middle;\n",
       "    }\n",
       "\n",
       "    .dataframe tbody tr th {\n",
       "        vertical-align: top;\n",
       "    }\n",
       "\n",
       "    .dataframe thead th {\n",
       "        text-align: right;\n",
       "    }\n",
       "</style>\n",
       "<table border=\"1\" class=\"dataframe\">\n",
       "  <thead>\n",
       "    <tr style=\"text-align: right;\">\n",
       "      <th></th>\n",
       "      <th>0</th>\n",
       "      <th>1</th>\n",
       "      <th>2</th>\n",
       "      <th>3</th>\n",
       "      <th>4</th>\n",
       "      <th>5</th>\n",
       "      <th>6</th>\n",
       "    </tr>\n",
       "  </thead>\n",
       "  <tbody>\n",
       "    <tr>\n",
       "      <th>Dollar price in INR</th>\n",
       "      <td>Total Net Profit collected/ month\\n (USD)</td>\n",
       "      <td>Total Net Profit collected/ month \\n (USD - Mi...</td>\n",
       "      <td>Total Net Profit collected/ year  \\n(USD - Mil...</td>\n",
       "      <td>AED price in INR</td>\n",
       "      <td>Total Net Profit collected/ month \\n(AED)</td>\n",
       "      <td>Total Net Profit collected/ month  \\n(AED - Mi...</td>\n",
       "      <td>Total Net Profit collected/ year  \\n(AED - Mil...</td>\n",
       "    </tr>\n",
       "    <tr>\n",
       "      <th>73.48</th>\n",
       "      <td>$41,079.21</td>\n",
       "      <td>$0.04</td>\n",
       "      <td>$0.49</td>\n",
       "      <td>20.01</td>\n",
       "      <td>AED150,849.58</td>\n",
       "      <td>AED0.15</td>\n",
       "      <td>AED1.81</td>\n",
       "    </tr>\n",
       "  </tbody>\n",
       "</table>\n",
       "</div>"
      ],
      "text/plain": [
       "                                                             0  \\\n",
       "Dollar price in INR  Total Net Profit collected/ month\\n (USD)   \n",
       "73.48                                               $41,079.21   \n",
       "\n",
       "                                                                     1  \\\n",
       "Dollar price in INR  Total Net Profit collected/ month \\n (USD - Mi...   \n",
       "73.48                                                            $0.04   \n",
       "\n",
       "                                                                     2  \\\n",
       "Dollar price in INR  Total Net Profit collected/ year  \\n(USD - Mil...   \n",
       "73.48                                                            $0.49   \n",
       "\n",
       "                                    3  \\\n",
       "Dollar price in INR  AED price in INR   \n",
       "73.48                           20.01   \n",
       "\n",
       "                                                             4  \\\n",
       "Dollar price in INR  Total Net Profit collected/ month \\n(AED)   \n",
       "73.48                                            AED150,849.58   \n",
       "\n",
       "                                                                     5  \\\n",
       "Dollar price in INR  Total Net Profit collected/ month  \\n(AED - Mi...   \n",
       "73.48                                                          AED0.15   \n",
       "\n",
       "                                                                     6  \n",
       "Dollar price in INR  Total Net Profit collected/ year  \\n(AED - Mil...  \n",
       "73.48                                                          AED1.81  "
      ]
     },
     "execution_count": 38,
     "metadata": {},
     "output_type": "execute_result"
    }
   ],
   "source": [
    "df4 = df4.T\n",
    "df4.head()"
   ]
  },
  {
   "cell_type": "code",
   "execution_count": 39,
   "metadata": {},
   "outputs": [],
   "source": [
    "df4.to_excel('Sales_in_Different_Currency.xlsx')"
   ]
  },
  {
   "cell_type": "code",
   "execution_count": 41,
   "metadata": {},
   "outputs": [
    {
     "data": {
      "text/html": [
       "<div>\n",
       "<style scoped>\n",
       "    .dataframe tbody tr th:only-of-type {\n",
       "        vertical-align: middle;\n",
       "    }\n",
       "\n",
       "    .dataframe tbody tr th {\n",
       "        vertical-align: top;\n",
       "    }\n",
       "\n",
       "    .dataframe thead th {\n",
       "        text-align: right;\n",
       "    }\n",
       "</style>\n",
       "<table border=\"1\" class=\"dataframe\">\n",
       "  <thead>\n",
       "    <tr style=\"text-align: right;\">\n",
       "      <th></th>\n",
       "      <th>Dollar price in INR</th>\n",
       "      <th>Total Net Profit collected/ month\\n (USD)</th>\n",
       "      <th>Total Net Profit collected/ month \\n (USD - Million)</th>\n",
       "      <th>Total Net Profit collected/ year  \\n(USD - Million)</th>\n",
       "      <th>AED price in INR</th>\n",
       "      <th>Total Net Profit collected/ month \\n(AED)</th>\n",
       "      <th>Total Net Profit collected/ month  \\n(AED - Million)</th>\n",
       "      <th>Total Net Profit collected/ year  \\n(AED - Million)</th>\n",
       "    </tr>\n",
       "  </thead>\n",
       "  <tbody>\n",
       "    <tr>\n",
       "      <th>0</th>\n",
       "      <td>73.48</td>\n",
       "      <td>$41,079.21</td>\n",
       "      <td>$0.04</td>\n",
       "      <td>$0.49</td>\n",
       "      <td>20.01</td>\n",
       "      <td>AED150,849.58</td>\n",
       "      <td>AED0.15</td>\n",
       "      <td>AED1.81</td>\n",
       "    </tr>\n",
       "  </tbody>\n",
       "</table>\n",
       "</div>"
      ],
      "text/plain": [
       "   Dollar price in INR Total Net Profit collected/ month\\n (USD)  \\\n",
       "0                73.48                                $41,079.21   \n",
       "\n",
       "  Total Net Profit collected/ month \\n (USD - Million)  \\\n",
       "0                                              $0.04     \n",
       "\n",
       "  Total Net Profit collected/ year  \\n(USD - Million)  AED price in INR  \\\n",
       "0                                              $0.49              20.01   \n",
       "\n",
       "  Total Net Profit collected/ month \\n(AED)  \\\n",
       "0                             AED150,849.58   \n",
       "\n",
       "  Total Net Profit collected/ month  \\n(AED - Million)  \\\n",
       "0                                            AED0.15     \n",
       "\n",
       "  Total Net Profit collected/ year  \\n(AED - Million)  \n",
       "0                                            AED1.81   "
      ]
     },
     "execution_count": 41,
     "metadata": {},
     "output_type": "execute_result"
    }
   ],
   "source": [
    "df3 = pd.read_excel('Sales_in_Different_Currency.xlsx')\n",
    "df3"
   ]
  },
  {
   "attachments": {},
   "cell_type": "markdown",
   "metadata": {},
   "source": [
    "So in this sheet there are currency conversion values this is just a ference sheet made by us\n",
    "\n",
    "Refrence because as we know the price of dollar is not constant so we will need to use a method which fetches the current dollar rate and converts the currency values as per the current rate."
   ]
  },
  {
   "cell_type": "code",
   "execution_count": null,
   "metadata": {},
   "outputs": [],
   "source": []
  }
 ],
 "metadata": {
  "kernelspec": {
   "display_name": "Python 3",
   "language": "python",
   "name": "python3"
  },
  "language_info": {
   "codemirror_mode": {
    "name": "ipython",
    "version": 3
   },
   "file_extension": ".py",
   "mimetype": "text/x-python",
   "name": "python",
   "nbconvert_exporter": "python",
   "pygments_lexer": "ipython3",
   "version": "3.9.6"
  },
  "orig_nbformat": 4,
  "vscode": {
   "interpreter": {
    "hash": "b0437ffc8de0f181a6b616b70550ad6d2fe2e441c076eff26d234ac4877e96c8"
   }
  }
 },
 "nbformat": 4,
 "nbformat_minor": 2
}
